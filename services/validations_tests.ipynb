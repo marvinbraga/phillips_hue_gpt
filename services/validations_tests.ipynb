{
 "cells": [
  {
   "cell_type": "code",
   "execution_count": 64,
   "outputs": [
    {
     "data": {
      "text/plain": "True"
     },
     "execution_count": 64,
     "metadata": {},
     "output_type": "execute_result"
    }
   ],
   "source": [
    "from dotenv import load_dotenv, find_dotenv\n",
    "\n",
    "load_dotenv(find_dotenv())"
   ],
   "metadata": {
    "collapsed": false,
    "ExecuteTime": {
     "end_time": "2023-10-29T02:12:02.516093500Z",
     "start_time": "2023-10-29T02:12:02.505064900Z"
    }
   },
   "id": "96d7fd2a243ef900"
  },
  {
   "cell_type": "code",
   "execution_count": 65,
   "id": "initial_id",
   "metadata": {
    "collapsed": true,
    "ExecuteTime": {
     "end_time": "2023-10-29T02:12:03.249012900Z",
     "start_time": "2023-10-29T02:12:03.241496600Z"
    }
   },
   "outputs": [],
   "source": [
    "instructions = \"\"\"\n",
    "Crie uma configuração de cores que seja minimalista e divertida para que um dia bem frio seja alegre e descontraído.\n",
    "\"\"\""
   ]
  },
  {
   "cell_type": "code",
   "execution_count": 66,
   "outputs": [],
   "source": [
    "prompt = \"\"\"\n",
    "Tenho a seguinte lista de lâmpadas e quero que você crie uma configuração de cores para elas que componham um tema de acordo com as seguintes instruções:\n",
    "\n",
    "<<INSTRUÇÕES>>\n",
    "{text}\n",
    "\n",
    "\n",
    "Aqui está a lista de minhas lâmpadas com seus respectivos posicionamentos:\n",
    "\n",
    "<<LISTA DE LÂMPADAS E INFORMAÇÕES RELACIONADAS>>\n",
    "\n",
    "O teto tem o pé direito com aproximadamente 2,3 metros de altura.\n",
    "\n",
    "Lâmpada 1: Teto, luminária esquerda, posição direita.\n",
    "Lâmpada 2: Teto, luminária esquerda, posição esquerda.\n",
    "Lâmpada 3: Teto, luminária direita, posição esquerda.\n",
    "Lâmpada 4: Teto, luminária direita, posição direita.\n",
    "\n",
    "Hue Iris: Mesa do meu lado direito, altura de 65cm.\n",
    "\n",
    "Hue Play 1: Atrás do meu monitor principal do lado esquerdo.\n",
    "Hue Play 2: Atrás do meu monitor principal do lado direito.\n",
    "\n",
    "Fita Led: Na minha frente e por trás de minha mesa e 20cm, atrás do meu monitor principal, a 75cm de altura do chão.\n",
    "\n",
    "Led cima: Na minha frente, 20cm trás do meu monitor principal, a 1,50cm de altura do chão.\n",
    "\n",
    "<<INFORMAÇÕES DO ARQUIVO DE SAÍDA>>\n",
    "\n",
    "Você deverá criar uma estrutura de arquivo JSON com as seguintes informações:\n",
    "\n",
    "name: O nome da configuração. Este é um identificador único para a configuração. Crie um nome que faça sentido com as cores que compõem a configuração. O nome deve ser em inglês e caso tenha espaços em branco então troque-os para underline.\n",
    "\n",
    "description: Uma breve descrição da configuração. Isto pode incluir detalhes sobre o ambiente em que a configuração é usada.\n",
    "\n",
    "settings: Uma lista de configurações de luz. Cada configuração de luz deve incluir:\n",
    "\n",
    "light_name: O nome da luz ou luminária.\n",
    "\n",
    "color: A cor da luz. Isto deve ser um dicionário com os seguintes campos:\n",
    "  red: A intensidade do vermelho (entre 0 e 255).\n",
    "  green: A intensidade do verde (entre 0 e 255).\n",
    "  blue: A intensidade do azul (entre 0 e 255).\n",
    "  brightness: O brilho da luz (entre 0 e 255).\n",
    "\n",
    "<<EXEMPLO DE ARQUIVO JSON>>\n",
    "\n",
    "Aqui está um exemplo de como você pode criar uma nova configuração de luz:\n",
    "\n",
    "Seguem os detalhes extraídos:\n",
    "\n",
    "name: A chave 'name' representa o nome dado para a configuração atual do sistema de iluminação, que neste caso é 'sua_nova_configuracao'.\n",
    "\n",
    "description: A chave 'description' fornece uma descrição detalhada do ambiente e das luzes, que ajuda a entender o propósito e o contexto da configuração.\n",
    "\n",
    "settings: A chave 'settings' é uma lista que contém as configurações de cada lâmpada ou luminária que faz parte do sistema de iluminação. Cada item nesta lista é um objeto que contém duas chaves: 'light_name' e 'color'.\n",
    "\n",
    "light_name: A chave 'light_name' é o nome dado à lâmpada ou luminária. Você deverá utilizar os nomes exatos fornecidos nestas instruções, na lista de lâmpadas.\n",
    "\n",
    "color: A chave 'color' é um objeto que contém as informações de cor e brilho para a luz. As cores são representadas por três chaves: 'red', 'green' e 'blue', que seguem o modelo de cor RGB. A chave 'brightness' determina o nível de brilho da luz. No exemplo fornecido, ambas as luzes têm a cor definida como branco (255,255,255 no modelo RGB) e o brilho definido como 100.\n",
    "\n",
    "Para adicionar mais configurações de lâmpadas, você pode simplesmente adicionar mais objetos à lista de 'settings'. Cada objeto deve conter as chaves 'light_name' e 'color' com as respectivas informações.\n",
    "\n",
    "Substitua \"sua_nova_configuracao\", \"Uma descrição detalhada do ambiente e das luzes\", \"Nome da sua lâmpada ou luminária 1\" e \"Nome da sua lâmpada ou luminária 2\" pelos valores desejados. Ajuste os valores de red, green, blue e brightness para atingir a cor e o brilho desejados para cada luz.\n",
    "\n",
    "<<SAÍDA DA RESPOSTA>>\n",
    "Formate a saída como JSON e suas respectivas chaves e valores. Apenas isto.\n",
    "\"\"\""
   ],
   "metadata": {
    "collapsed": false,
    "ExecuteTime": {
     "end_time": "2023-10-29T02:12:05.291268800Z",
     "start_time": "2023-10-29T02:12:05.282753400Z"
    }
   },
   "id": "8129ad286661ffc"
  },
  {
   "cell_type": "code",
   "execution_count": 67,
   "outputs": [
    {
     "name": "stdout",
     "output_type": "stream",
     "text": [
      "input_variables=['text'] messages=[HumanMessagePromptTemplate(prompt=PromptTemplate(input_variables=['text'], template='\\nTenho a seguinte lista de lâmpadas e quero que você crie uma configuração de cores para elas que componham um tema de acordo com as seguintes instruções:\\n\\n<<INSTRUÇÕES>>\\n{text}\\n\\n\\nAqui está a lista de minhas lâmpadas com seus respectivos posicionamentos:\\n\\n<<LISTA DE LÂMPADAS E INFORMAÇÕES RELACIONADAS>>\\n\\nO teto tem o pé direito com aproximadamente 2,3 metros de altura.\\n\\nLâmpada 1: Teto, luminária esquerda, posição direita.\\nLâmpada 2: Teto, luminária esquerda, posição esquerda.\\nLâmpada 3: Teto, luminária direita, posição esquerda.\\nLâmpada 4: Teto, luminária direita, posição direita.\\n\\nHue Iris: Mesa do meu lado direito, altura de 65cm.\\n\\nHue Play 1: Atrás do meu monitor principal do lado esquerdo.\\nHue Play 2: Atrás do meu monitor principal do lado direito.\\n\\nFita Led: Na minha frente e por trás de minha mesa e 20cm, atrás do meu monitor principal, a 75cm de altura do chão.\\n\\nLed cima: Na minha frente, 20cm trás do meu monitor principal, a 1,50cm de altura do chão.\\n\\n<<INFORMAÇÕES DO ARQUIVO DE SAÍDA>>\\n\\nVocê deverá criar uma estrutura de arquivo JSON com as seguintes informações:\\n\\nname: O nome da configuração. Este é um identificador único para a configuração. Crie um nome que faça sentido com as cores que compõem a configuração. O nome deve ser em inglês e caso tenha espaços em branco então troque-os para underline.\\n\\ndescription: Uma breve descrição da configuração. Isto pode incluir detalhes sobre o ambiente em que a configuração é usada.\\n\\nsettings: Uma lista de configurações de luz. Cada configuração de luz deve incluir:\\n\\nlight_name: O nome da luz ou luminária.\\n\\ncolor: A cor da luz. Isto deve ser um dicionário com os seguintes campos:\\n  red: A intensidade do vermelho (entre 0 e 255).\\n  green: A intensidade do verde (entre 0 e 255).\\n  blue: A intensidade do azul (entre 0 e 255).\\n  brightness: O brilho da luz (entre 0 e 255).\\n\\n<<EXEMPLO DE ARQUIVO JSON>>\\n\\nAqui está um exemplo de como você pode criar uma nova configuração de luz:\\n\\nSeguem os detalhes extraídos:\\n\\nname: A chave \\'name\\' representa o nome dado para a configuração atual do sistema de iluminação, que neste caso é \\'sua_nova_configuracao\\'.\\n\\ndescription: A chave \\'description\\' fornece uma descrição detalhada do ambiente e das luzes, que ajuda a entender o propósito e o contexto da configuração.\\n\\nsettings: A chave \\'settings\\' é uma lista que contém as configurações de cada lâmpada ou luminária que faz parte do sistema de iluminação. Cada item nesta lista é um objeto que contém duas chaves: \\'light_name\\' e \\'color\\'.\\n\\nlight_name: A chave \\'light_name\\' é o nome dado à lâmpada ou luminária. Você deverá utilizar os nomes exatos fornecidos nestas instruções, na lista de lâmpadas.\\n\\ncolor: A chave \\'color\\' é um objeto que contém as informações de cor e brilho para a luz. As cores são representadas por três chaves: \\'red\\', \\'green\\' e \\'blue\\', que seguem o modelo de cor RGB. A chave \\'brightness\\' determina o nível de brilho da luz. No exemplo fornecido, ambas as luzes têm a cor definida como branco (255,255,255 no modelo RGB) e o brilho definido como 100.\\n\\nPara adicionar mais configurações de lâmpadas, você pode simplesmente adicionar mais objetos à lista de \\'settings\\'. Cada objeto deve conter as chaves \\'light_name\\' e \\'color\\' com as respectivas informações.\\n\\nSubstitua \"sua_nova_configuracao\", \"Uma descrição detalhada do ambiente e das luzes\", \"Nome da sua lâmpada ou luminária 1\" e \"Nome da sua lâmpada ou luminária 2\" pelos valores desejados. Ajuste os valores de red, green, blue e brightness para atingir a cor e o brilho desejados para cada luz.\\n\\n<<SAÍDA DA RESPOSTA>>\\nFormate a saída como JSON e suas respectivas chaves e valores. Apenas isto.\\n'))]\n"
     ]
    }
   ],
   "source": [
    "from langchain.prompts import ChatPromptTemplate\n",
    "\n",
    "prompt_template = ChatPromptTemplate.from_template(prompt)\n",
    "print(prompt_template)"
   ],
   "metadata": {
    "collapsed": false,
    "ExecuteTime": {
     "end_time": "2023-10-29T02:12:06.504520100Z",
     "start_time": "2023-10-29T02:12:06.477969600Z"
    }
   },
   "id": "6465f401ab358ae4"
  },
  {
   "cell_type": "code",
   "execution_count": 68,
   "outputs": [
    {
     "name": "stdout",
     "output_type": "stream",
     "text": [
      "{\n",
      "  \"name\": \"minimalist_fun_cold_day\",\n",
      "  \"description\": \"A minimalist and fun lighting configuration to make a cold day cheerful and relaxed.\",\n",
      "  \"settings\": [\n",
      "    {\n",
      "      \"light_name\": \"Lâmpada 1\",\n",
      "      \"color\": {\n",
      "        \"red\": 255,\n",
      "        \"green\": 0,\n",
      "        \"blue\": 0,\n",
      "        \"brightness\": 150\n",
      "      }\n",
      "    },\n",
      "    {\n",
      "      \"light_name\": \"Lâmpada 2\",\n",
      "      \"color\": {\n",
      "        \"red\": 0,\n",
      "        \"green\": 255,\n",
      "        \"blue\": 0,\n",
      "        \"brightness\": 150\n",
      "      }\n",
      "    },\n",
      "    {\n",
      "      \"light_name\": \"Lâmpada 3\",\n",
      "      \"color\": {\n",
      "        \"red\": 0,\n",
      "        \"green\": 0,\n",
      "        \"blue\": 255,\n",
      "        \"brightness\": 150\n",
      "      }\n",
      "    },\n",
      "    {\n",
      "      \"light_name\": \"Lâmpada 4\",\n",
      "      \"color\": {\n",
      "        \"red\": 255,\n",
      "        \"green\": 255,\n",
      "        \"blue\": 0,\n",
      "        \"brightness\": 150\n",
      "      }\n",
      "    },\n",
      "    {\n",
      "      \"light_name\": \"Hue Iris\",\n",
      "      \"color\": {\n",
      "        \"red\": 255,\n",
      "        \"green\": 0,\n",
      "        \"blue\": 255,\n",
      "        \"brightness\": 150\n",
      "      }\n",
      "    },\n",
      "    {\n",
      "      \"light_name\": \"Hue Play 1\",\n",
      "      \"color\": {\n",
      "        \"red\": 0,\n",
      "        \"green\": 255,\n",
      "        \"blue\": 255,\n",
      "        \"brightness\": 150\n",
      "      }\n",
      "    },\n",
      "    {\n",
      "      \"light_name\": \"Hue Play 2\",\n",
      "      \"color\": {\n",
      "        \"red\": 255,\n",
      "        \"green\": 255,\n",
      "        \"blue\": 255,\n",
      "        \"brightness\": 150\n",
      "      }\n",
      "    },\n",
      "    {\n",
      "      \"light_name\": \"Fita Led\",\n",
      "      \"color\": {\n",
      "        \"red\": 255,\n",
      "        \"green\": 0,\n",
      "        \"blue\": 0,\n",
      "        \"brightness\": 100\n",
      "      }\n",
      "    },\n",
      "    {\n",
      "      \"light_name\": \"Led cima\",\n",
      "      \"color\": {\n",
      "        \"red\": 0,\n",
      "        \"green\": 255,\n",
      "        \"blue\": 0,\n",
      "        \"brightness\": 100\n",
      "      }\n",
      "    }\n",
      "  ]\n",
      "}\n"
     ]
    }
   ],
   "source": [
    "from langchain.chat_models import ChatOpenAI\n",
    "\n",
    "messages = prompt_template.format_messages(text=instructions)\n",
    "chat = ChatOpenAI(temperature=0.0, model=\"gpt-3.5-turbo\")\n",
    "response = chat(messages)\n",
    "print(response.content)"
   ],
   "metadata": {
    "collapsed": false,
    "ExecuteTime": {
     "end_time": "2023-10-29T02:12:15.699196500Z",
     "start_time": "2023-10-29T02:12:07.278309100Z"
    }
   },
   "id": "fe86d73847dff5a"
  },
  {
   "cell_type": "code",
   "execution_count": 69,
   "outputs": [],
   "source": [
    "import json\n",
    "\n",
    "new_data = json.loads(response.content)"
   ],
   "metadata": {
    "collapsed": false,
    "ExecuteTime": {
     "end_time": "2023-10-29T02:12:25.498522300Z",
     "start_time": "2023-10-29T02:12:25.489510800Z"
    }
   },
   "id": "ea39467f70cf3504"
  },
  {
   "cell_type": "code",
   "execution_count": 70,
   "outputs": [
    {
     "data": {
      "text/plain": "{'name': 'minimalist_fun_cold_day',\n 'description': 'A minimalist and fun lighting configuration to make a cold day cheerful and relaxed.',\n 'settings': [{'light_name': 'Lâmpada 1',\n   'color': {'red': 255, 'green': 0, 'blue': 0, 'brightness': 150}},\n  {'light_name': 'Lâmpada 2',\n   'color': {'red': 0, 'green': 255, 'blue': 0, 'brightness': 150}},\n  {'light_name': 'Lâmpada 3',\n   'color': {'red': 0, 'green': 0, 'blue': 255, 'brightness': 150}},\n  {'light_name': 'Lâmpada 4',\n   'color': {'red': 255, 'green': 255, 'blue': 0, 'brightness': 150}},\n  {'light_name': 'Hue Iris',\n   'color': {'red': 255, 'green': 0, 'blue': 255, 'brightness': 150}},\n  {'light_name': 'Hue Play 1',\n   'color': {'red': 0, 'green': 255, 'blue': 255, 'brightness': 150}},\n  {'light_name': 'Hue Play 2',\n   'color': {'red': 255, 'green': 255, 'blue': 255, 'brightness': 150}},\n  {'light_name': 'Fita Led',\n   'color': {'red': 255, 'green': 0, 'blue': 0, 'brightness': 100}},\n  {'light_name': 'Led cima',\n   'color': {'red': 0, 'green': 255, 'blue': 0, 'brightness': 100}}]}"
     },
     "execution_count": 70,
     "metadata": {},
     "output_type": "execute_result"
    }
   ],
   "source": [
    "new_data"
   ],
   "metadata": {
    "collapsed": false,
    "ExecuteTime": {
     "end_time": "2023-10-29T02:12:26.651594200Z",
     "start_time": "2023-10-29T02:12:26.635882900Z"
    }
   },
   "id": "5a4f02c5315cce3c"
  },
  {
   "cell_type": "code",
   "execution_count": 71,
   "outputs": [
    {
     "data": {
      "text/plain": "dict"
     },
     "execution_count": 71,
     "metadata": {},
     "output_type": "execute_result"
    }
   ],
   "source": [
    "type(new_data)"
   ],
   "metadata": {
    "collapsed": false,
    "ExecuteTime": {
     "end_time": "2023-10-29T02:12:27.929435600Z",
     "start_time": "2023-10-29T02:12:27.916759300Z"
    }
   },
   "id": "f4cd6616fb297e49"
  },
  {
   "cell_type": "code",
   "execution_count": 72,
   "outputs": [],
   "source": [
    "from marvin_hue.basics import LightConfig\n",
    "\n",
    "lc = LightConfig().from_dict(new_data)"
   ],
   "metadata": {
    "collapsed": false,
    "ExecuteTime": {
     "end_time": "2023-10-29T02:12:30.126005900Z",
     "start_time": "2023-10-29T02:12:30.120979200Z"
    }
   },
   "id": "f9af5e850eeb1458"
  },
  {
   "cell_type": "code",
   "execution_count": 73,
   "outputs": [],
   "source": [
    "import os\n",
    "from marvin_hue.controllers import HueController\n",
    "\n",
    "hue = HueController(ip_address=os.environ[\"bridge_ip\"])"
   ],
   "metadata": {
    "collapsed": false,
    "ExecuteTime": {
     "end_time": "2023-10-29T02:12:32.046881800Z",
     "start_time": "2023-10-29T02:12:31.997723500Z"
    }
   },
   "id": "c122bd45d37b08ff"
  },
  {
   "cell_type": "code",
   "execution_count": 74,
   "outputs": [
    {
     "data": {
      "text/plain": "<marvin_hue.controllers.HueController at 0x1f3eb7601f0>"
     },
     "execution_count": 74,
     "metadata": {},
     "output_type": "execute_result"
    }
   ],
   "source": [
    "hue.apply_light_config(light_config=lc)"
   ],
   "metadata": {
    "collapsed": false,
    "ExecuteTime": {
     "end_time": "2023-10-29T02:12:35.837976400Z",
     "start_time": "2023-10-29T02:12:33.250422700Z"
    }
   },
   "id": "d1af92a6623aa110"
  },
  {
   "cell_type": "code",
   "execution_count": 75,
   "outputs": [],
   "source": [
    "result = response.content"
   ],
   "metadata": {
    "collapsed": false,
    "ExecuteTime": {
     "end_time": "2023-10-29T02:12:45.785634200Z",
     "start_time": "2023-10-29T02:12:45.762828800Z"
    }
   },
   "id": "4f0b4e365d6d64c1"
  },
  {
   "cell_type": "code",
   "execution_count": 77,
   "outputs": [
    {
     "name": "stdout",
     "output_type": "stream",
     "text": [
      "I chose this color configuration for the instruction because it aims to create a minimalist and fun atmosphere for a cold day. The colors chosen are vibrant and cheerful, which can help to uplift the mood and make the day more enjoyable.\n",
      "\n",
      "Each light has a different color to add variety and create a playful ambiance. The first three lights have primary colors (red, green, and blue), while the fourth light has a combination of yellow (red + green). This combination adds a touch of warmth to the overall color scheme.\n",
      "\n",
      "The Hue Iris and Hue Play lights have unique colors (magenta and cyan) to add a bit of contrast and visual interest. The white color of the Hue Play 2 light provides a neutral element that balances out the vibrant colors.\n",
      "\n",
      "The Fita Led and Led cima lights have the same colors as the first three lights but with a slightly lower brightness. This variation in brightness adds depth to the lighting configuration and prevents it from being too overwhelming.\n",
      "\n",
      "Overall, this color configuration aims to create a cheerful and relaxed atmosphere on a cold day, making it more enjoyable and uplifting.\n"
     ]
    }
   ],
   "source": [
    "from services.prompts import PromptResponseHue\n",
    "\n",
    "prompt_result = ChatPromptTemplate.from_template(PromptResponseHue.get())\n",
    "msgs = prompt_result.format_messages(instructions=instructions, text=result)\n",
    "chat = ChatOpenAI(temperature=0.0, model=\"gpt-3.5-turbo\")\n",
    "resp = chat(msgs)\n",
    "print(resp.content)\n"
   ],
   "metadata": {
    "collapsed": false,
    "ExecuteTime": {
     "end_time": "2023-10-29T02:13:32.744804600Z",
     "start_time": "2023-10-29T02:13:28.918160400Z"
    }
   },
   "id": "9a5e44433004bb6b"
  },
  {
   "cell_type": "code",
   "execution_count": null,
   "outputs": [],
   "source": [],
   "metadata": {
    "collapsed": false
   },
   "id": "21fbb4946e6f85ca"
  }
 ],
 "metadata": {
  "kernelspec": {
   "display_name": "Python 3",
   "language": "python",
   "name": "python3"
  },
  "language_info": {
   "codemirror_mode": {
    "name": "ipython",
    "version": 2
   },
   "file_extension": ".py",
   "mimetype": "text/x-python",
   "name": "python",
   "nbconvert_exporter": "python",
   "pygments_lexer": "ipython2",
   "version": "2.7.6"
  }
 },
 "nbformat": 4,
 "nbformat_minor": 5
}
