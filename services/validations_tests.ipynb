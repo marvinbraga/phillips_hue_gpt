{
 "cells": [
  {
   "cell_type": "code",
   "execution_count": null,
   "outputs": [],
   "source": [
    "from dotenv import load_dotenv, find_dotenv\n",
    "\n",
    "load_dotenv(find_dotenv())"
   ],
   "metadata": {
    "collapsed": false
   },
   "id": "96d7fd2a243ef900"
  },
  {
   "cell_type": "code",
   "execution_count": null,
   "id": "initial_id",
   "metadata": {
    "collapsed": true
   },
   "outputs": [],
   "source": [
    "instructions = \"\"\"\n",
    "Crie uma configuração de cores que seja minimalista e divertida para que um dia bem frio seja alegre e descontraído.\n",
    "\"\"\""
   ]
  },
  {
   "cell_type": "code",
   "execution_count": null,
   "outputs": [],
   "source": [
    "prompt = \"\"\"\n",
    "Tenho a seguinte lista de lâmpadas e quero que você crie uma configuração de cores para elas que componham um tema de acordo com as seguintes instruções:\n",
    "\n",
    "<<INSTRUÇÕES>>\n",
    "{text}\n",
    "\n",
    "\n",
    "Aqui está a lista de minhas lâmpadas com seus respectivos posicionamentos:\n",
    "\n",
    "<<LISTA DE LÂMPADAS E INFORMAÇÕES RELACIONADAS>>\n",
    "\n",
    "O teto tem o pé direito com aproximadamente 2,3 metros de altura.\n",
    "\n",
    "Lâmpada 1: Teto, luminária esquerda, posição direita.\n",
    "Lâmpada 2: Teto, luminária esquerda, posição esquerda.\n",
    "Lâmpada 3: Teto, luminária direita, posição esquerda.\n",
    "Lâmpada 4: Teto, luminária direita, posição direita.\n",
    "\n",
    "Hue Iris: Mesa do meu lado direito, altura de 65cm.\n",
    "\n",
    "Hue Play 1: Atrás do meu monitor principal do lado esquerdo.\n",
    "Hue Play 2: Atrás do meu monitor principal do lado direito.\n",
    "\n",
    "Fita Led: Na minha frente e por trás de minha mesa e 20cm, atrás do meu monitor principal, a 75cm de altura do chão.\n",
    "\n",
    "Led cima: Na minha frente, 20cm trás do meu monitor principal, a 1,50cm de altura do chão.\n",
    "\n",
    "<<INFORMAÇÕES DO ARQUIVO DE SAÍDA>>\n",
    "\n",
    "Você deverá criar uma estrutura de arquivo JSON com as seguintes informações:\n",
    "\n",
    "name: O nome da configuração. Este é um identificador único para a configuração. Crie um nome que faça sentido com as cores que compõem a configuração. O nome deve ser em inglês e caso tenha espaços em branco então troque-os para underline.\n",
    "\n",
    "description: Uma breve descrição da configuração. Isto pode incluir detalhes sobre o ambiente em que a configuração é usada.\n",
    "\n",
    "settings: Uma lista de configurações de luz. Cada configuração de luz deve incluir:\n",
    "\n",
    "light_name: O nome da luz ou luminária.\n",
    "\n",
    "color: A cor da luz. Isto deve ser um dicionário com os seguintes campos:\n",
    "  red: A intensidade do vermelho (entre 0 e 255).\n",
    "  green: A intensidade do verde (entre 0 e 255).\n",
    "  blue: A intensidade do azul (entre 0 e 255).\n",
    "  brightness: O brilho da luz (entre 0 e 255).\n",
    "\n",
    "<<EXEMPLO DE ARQUIVO JSON>>\n",
    "\n",
    "Aqui está um exemplo de como você pode criar uma nova configuração de luz:\n",
    "\n",
    "Seguem os detalhes extraídos:\n",
    "\n",
    "name: A chave 'name' representa o nome dado para a configuração atual do sistema de iluminação, que neste caso é 'sua_nova_configuracao'.\n",
    "\n",
    "description: A chave 'description' fornece uma descrição detalhada do ambiente e das luzes, que ajuda a entender o propósito e o contexto da configuração.\n",
    "\n",
    "settings: A chave 'settings' é uma lista que contém as configurações de cada lâmpada ou luminária que faz parte do sistema de iluminação. Cada item nesta lista é um objeto que contém duas chaves: 'light_name' e 'color'.\n",
    "\n",
    "light_name: A chave 'light_name' é o nome dado à lâmpada ou luminária. Você deverá utilizar os nomes exatos fornecidos nestas instruções, na lista de lâmpadas.\n",
    "\n",
    "color: A chave 'color' é um objeto que contém as informações de cor e brilho para a luz. As cores são representadas por três chaves: 'red', 'green' e 'blue', que seguem o modelo de cor RGB. A chave 'brightness' determina o nível de brilho da luz. No exemplo fornecido, ambas as luzes têm a cor definida como branco (255,255,255 no modelo RGB) e o brilho definido como 100.\n",
    "\n",
    "Para adicionar mais configurações de lâmpadas, você pode simplesmente adicionar mais objetos à lista de 'settings'. Cada objeto deve conter as chaves 'light_name' e 'color' com as respectivas informações.\n",
    "\n",
    "Substitua \"sua_nova_configuracao\", \"Uma descrição detalhada do ambiente e das luzes\", \"Nome da sua lâmpada ou luminária 1\" e \"Nome da sua lâmpada ou luminária 2\" pelos valores desejados. Ajuste os valores de red, green, blue e brightness para atingir a cor e o brilho desejados para cada luz.\n",
    "\n",
    "<<SAÍDA DA RESPOSTA>>\n",
    "Formate a saída como JSON e suas respectivas chaves e valores. Apenas isto.\n",
    "\"\"\""
   ],
   "metadata": {
    "collapsed": false
   },
   "id": "8129ad286661ffc"
  },
  {
   "cell_type": "code",
   "execution_count": null,
   "outputs": [],
   "source": [
    "from langchain.prompts import ChatPromptTemplate\n",
    "\n",
    "prompt_template = ChatPromptTemplate.from_template(prompt)\n",
    "print(prompt_template)"
   ],
   "metadata": {
    "collapsed": false
   },
   "id": "6465f401ab358ae4"
  },
  {
   "cell_type": "code",
   "execution_count": null,
   "outputs": [],
   "source": [
    "from langchain.chat_models import ChatOpenAI\n",
    "\n",
    "messages = prompt_template.format_messages(text=instructions)\n",
    "chat = ChatOpenAI(temperature=0.0, model=\"gpt-3.5-turbo\")\n",
    "response = chat(messages)\n",
    "print(response.content)"
   ],
   "metadata": {
    "collapsed": false
   },
   "id": "fe86d73847dff5a"
  },
  {
   "cell_type": "code",
   "execution_count": null,
   "outputs": [],
   "source": [
    "import json\n",
    "\n",
    "new_data = json.loads(response.content)"
   ],
   "metadata": {
    "collapsed": false
   },
   "id": "ea39467f70cf3504"
  },
  {
   "cell_type": "code",
   "execution_count": null,
   "outputs": [],
   "source": [
    "new_data"
   ],
   "metadata": {
    "collapsed": false
   },
   "id": "5a4f02c5315cce3c"
  },
  {
   "cell_type": "code",
   "execution_count": null,
   "outputs": [],
   "source": [
    "type(new_data)"
   ],
   "metadata": {
    "collapsed": false
   },
   "id": "f4cd6616fb297e49"
  },
  {
   "cell_type": "code",
   "execution_count": null,
   "outputs": [],
   "source": [
    "from marvin_hue.basics import LightConfig\n",
    "\n",
    "lc = LightConfig().from_dict(new_data)"
   ],
   "metadata": {
    "collapsed": false
   },
   "id": "f9af5e850eeb1458"
  },
  {
   "cell_type": "code",
   "execution_count": null,
   "outputs": [],
   "source": [
    "import os\n",
    "from marvin_hue.controllers import HueController\n",
    "\n",
    "hue = HueController(ip_address=os.environ[\"bridge_ip\"])"
   ],
   "metadata": {
    "collapsed": false
   },
   "id": "c122bd45d37b08ff"
  },
  {
   "cell_type": "code",
   "execution_count": null,
   "outputs": [],
   "source": [
    "hue.apply_light_config(light_config=lc)"
   ],
   "metadata": {
    "collapsed": false
   },
   "id": "d1af92a6623aa110"
  },
  {
   "cell_type": "code",
   "execution_count": null,
   "outputs": [],
   "source": [
    "result = response.content"
   ],
   "metadata": {
    "collapsed": false
   },
   "id": "4f0b4e365d6d64c1"
  },
  {
   "cell_type": "code",
   "execution_count": null,
   "outputs": [],
   "source": [
    "from services.prompts import PromptResponseHue\n",
    "\n",
    "prompt_result = ChatPromptTemplate.from_template(PromptResponseHue.get())\n",
    "msgs = prompt_result.format_messages(instructions=instructions, text=result)\n",
    "chat = ChatOpenAI(temperature=0.0, model=\"gpt-3.5-turbo\")\n",
    "resp = chat(msgs)\n",
    "print(resp.content)\n"
   ],
   "metadata": {
    "collapsed": false
   },
   "id": "9a5e44433004bb6b"
  },
  {
   "cell_type": "code",
   "execution_count": null,
   "outputs": [],
   "source": [],
   "metadata": {
    "collapsed": false
   },
   "id": "21fbb4946e6f85ca"
  }
 ],
 "metadata": {
  "kernelspec": {
   "display_name": "Python 3",
   "language": "python",
   "name": "python3"
  },
  "language_info": {
   "codemirror_mode": {
    "name": "ipython",
    "version": 2
   },
   "file_extension": ".py",
   "mimetype": "text/x-python",
   "name": "python",
   "nbconvert_exporter": "python",
   "pygments_lexer": "ipython2",
   "version": "2.7.6"
  }
 },
 "nbformat": 4,
 "nbformat_minor": 5
}
